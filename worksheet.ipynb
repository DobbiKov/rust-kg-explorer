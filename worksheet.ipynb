{
 "cells": [
  {
   "cell_type": "code",
   "execution_count": null,
   "id": "b376510a",
   "metadata": {},
   "outputs": [],
   "source": [
    "import pycountry\n",
    "\n",
    "def get_country_name(alpha2_code):\n",
    "    try:\n",
    "        country = pycountry.countries.get(alpha_2=alpha2_code.upper())\n",
    "        return country.name if country else None\n",
    "    except LookupError:\n",
    "        return None\n",
    "def get_country_code(country_name):\n",
    "    try:\n",
    "        # Search by name (case-insensitive)\n",
    "        country = next(\n",
    "            c for c in pycountry.countries \n",
    "            if c.name.lower() == country_name.lower()\n",
    "        )\n",
    "        return country.alpha_2\n",
    "    except StopIteration:\n",
    "        return None\n"
   ]
  },
  {
   "cell_type": "code",
   "execution_count": null,
   "id": "08debf8f",
   "metadata": {},
   "outputs": [],
   "source": [
    "from rdflib import Dataset\n",
    "\n",
    "d = Dataset(store=\"Oxigraph\")\n",
    "d.open(\"./data/book.db/\")"
   ]
  },
  {
   "cell_type": "code",
   "execution_count": null,
   "id": "2a79d1e9",
   "metadata": {},
   "outputs": [],
   "source": [
    "to_change = dict()\n",
    "\n",
    "for r in d.query(r\"\"\"\n",
    "PREFIX schema: <http://schema.org/>\n",
    "SELECT ?name\n",
    "WHERE {\n",
    "  ?country a schema:Country .\n",
    "  ?country schema:name ?name .\n",
    "  FILTER(STRLEN(?name) > 2)\n",
    "}\n",
    "\"\"\"):\n",
    "    cc = get_country_code(r.get(\"name\"))\n",
    "    if(cc != None):\n",
    "        to_change[cc] = r.get(\"name\")\n",
    "    \n",
    "    # print(r.get(\"name\"), \":\" , get_country_code(r.get(\"name\")))"
   ]
  },
  {
   "cell_type": "code",
   "execution_count": null,
   "id": "536d24e7",
   "metadata": {},
   "outputs": [],
   "source": [
    "codes = dict()\n",
    "\n",
    "for r in d.query(r\"\"\"\n",
    "PREFIX schema: <http://schema.org/>\n",
    "SELECT ?name\n",
    "WHERE {\n",
    "  ?country a schema:Country .\n",
    "  ?country schema:name ?name .\n",
    "  FILTER(STRLEN(?name) = 2)\n",
    "}\n",
    "\"\"\"):\n",
    "    fn = get_country_name(r.get(\"name\"))\n",
    "    if(cc != None):\n",
    "        codes[str(r.get(\"name\"))] = fn"
   ]
  },
  {
   "cell_type": "code",
   "execution_count": null,
   "id": "26d9053e",
   "metadata": {},
   "outputs": [],
   "source": [
    "c = set(codes.keys())\n",
    "t = set(to_change.keys())\n",
    "\n",
    "# c.difference(t)"
   ]
  },
  {
   "cell_type": "code",
   "execution_count": null,
   "id": "ba9c6d25",
   "metadata": {},
   "outputs": [],
   "source": [
    "from string import Template\n",
    "\n",
    "\n",
    "find_tmp = Template(r\"\"\"\n",
    "PREFIX schema: <http://schema.org/>\n",
    "DELETE {\n",
    "    ?country schema:name \"$cc\"\n",
    "}\n",
    "INSERT {\n",
    "  ?country schema:name \"$fullname\" .\n",
    "  ?country schema:alternateName \"$cc\" .\n",
    "}\n",
    "WHERE {\n",
    "  ?country a schema:Country .\n",
    "  ?country schema:name \"$cc\".\n",
    "}\n",
    "\"\"\")\n",
    "\n",
    "for key, value in to_change.items():\n",
    "    q = find_tmp.substitute(fullname = value, cc=key)\n",
    "    d.update(q)"
   ]
  },
  {
   "cell_type": "code",
   "execution_count": null,
   "id": "5215aa39",
   "metadata": {},
   "outputs": [],
   "source": [
    "for r in d.query(r\"\"\"\n",
    "PREFIX schema: <http://schema.org/>\n",
    "SELECT ?name\n",
    "WHERE {\n",
    "  ?country a schema:Country .\n",
    "  ?country schema:name ?name .\n",
    "  FILTER(STRLEN(?name) = 2)\n",
    "}\n",
    "\"\"\"):\n",
    "    print(r)"
   ]
  },
  {
   "cell_type": "code",
   "execution_count": null,
   "id": "ca52cd87",
   "metadata": {},
   "outputs": [],
   "source": [
    "d.close()"
   ]
  },
  {
   "cell_type": "code",
   "execution_count": null,
   "id": "8d09e119",
   "metadata": {},
   "outputs": [],
   "source": []
  }
 ],
 "metadata": {
  "kernelspec": {
   "display_name": "base",
   "language": "python",
   "name": "python3"
  },
  "language_info": {
   "codemirror_mode": {
    "name": "ipython",
    "version": 3
   },
   "file_extension": ".py",
   "mimetype": "text/x-python",
   "name": "python",
   "nbconvert_exporter": "python",
   "pygments_lexer": "ipython3",
   "version": "3.12.4"
  }
 },
 "nbformat": 4,
 "nbformat_minor": 5
}
